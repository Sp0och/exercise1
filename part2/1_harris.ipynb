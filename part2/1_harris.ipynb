{
 "cells": [
  {
   "cell_type": "code",
   "execution_count": null,
   "metadata": {},
   "outputs": [],
   "source": [
    "%matplotlib inline\n",
    "from matplotlib import pyplot as plt\n",
    "from scipy.ndimage.interpolation import rotate\n",
    "from scipy.ndimage.filters import gaussian_filter1d, gaussian_filter\n",
    "import numpy as np\n",
    "import cv2\n"
   ]
  },
  {
   "cell_type": "markdown",
   "metadata": {},
   "source": [
    "Implement a function that performs non-maximum suppression. You can leave it for the end"
   ]
  },
  {
   "cell_type": "code",
   "execution_count": null,
   "metadata": {},
   "outputs": [],
   "source": [
    "def nonmax_suppression(harris_resp, thr, halfwidth=2):\n",
    "    # Outputs:\n",
    "    # 1) cornersy: list with row coordinates of identified corner pixels.\n",
    "    # 2) cornersx: list with respective column coordinates of identified corner pixels.\n",
    "    # Elements from the two lists with the same index must correspond to the same corner.\n",
    "    \n",
    "    cornersy = []\n",
    "    cornersx = []\n",
    "    h, w = im.shape[:2]\n",
    "    # TODO: perform non-maximum suppression\n",
    "\n",
    "    return cornersy, cornersx"
   ]
  },
  {
   "cell_type": "markdown",
   "metadata": {},
   "source": [
    "Implement the main part of the exercise"
   ]
  },
  {
   "cell_type": "code",
   "execution_count": null,
   "metadata": {},
   "outputs": [],
   "source": [
    "# Define parameters\n",
    "sigma_w = 2.0\n",
    "sigma_d = 2.0\n",
    "kappa = 0.04\n",
    "rot_angle = 0\n",
    "thresh = 800\n",
    "\n",
    "# Read the image\n",
    "im = cv2.imread('../images/CircleLineRect.png', 0)\n",
    "im = im.astype('float')\n",
    "\n",
    "# Rotation of the image\n",
    "if rot_angle != 0:\n",
    "    im = rotate(im, rot_angle)\n",
    "\n",
    "# TODO: Implement Harris corners\n",
    "# Useful functions: gaussian_filter1d, gaussian_filter\n",
    "\n",
    "# I_x = ...\n",
    "# I_y = ...\n",
    "# .........\n",
    "# H = ...\n",
    "corn = nonmax_suppression(har,thresh,2)\n"
   ]
  },
  {
   "cell_type": "markdown",
   "metadata": {},
   "source": [
    "Visualization of the results"
   ]
  },
  {
   "cell_type": "code",
   "execution_count": null,
   "metadata": {},
   "outputs": [],
   "source": [
    "# Plotting of results\n",
    "# No need to change it\n",
    "plt.close(\"all\")\n",
    "plt.ion()\n",
    "f, ax_arr = plt.subplots(1, 3, figsize=(18, 16))\n",
    "ax_arr[0].set_title(\"Input Image\")\n",
    "ax_arr[1].set_title(\"Harris Response\")\n",
    "ax_arr[2].set_title(\"Detections\")\n",
    "ax_arr[0].imshow(im, cmap='gray')\n",
    "ax_arr[1].imshow(H, cmap='gray')\n",
    "ax_arr[2].imshow(im, cmap='gray')\n",
    "ax_arr[2].scatter(x=corn[1], y=corn[0], c='r', s=10)"
   ]
  }
 ],
 "metadata": {
  "kernelspec": {
   "display_name": "Python 3 (ipykernel)",
   "language": "python",
   "name": "python3"
  },
  "language_info": {
   "codemirror_mode": {
    "name": "ipython",
    "version": 3
   },
   "file_extension": ".py",
   "mimetype": "text/x-python",
   "name": "python",
   "nbconvert_exporter": "python",
   "pygments_lexer": "ipython3",
   "version": "3.7.11"
  }
 },
 "nbformat": 4,
 "nbformat_minor": 2
}
