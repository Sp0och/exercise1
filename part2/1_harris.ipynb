{
 "cells": [
  {
   "cell_type": "code",
   "execution_count": 4,
   "metadata": {},
   "outputs": [],
   "source": [
    "%matplotlib inline\n",
    "from matplotlib import pyplot as plt\n",
    "from scipy.ndimage.interpolation import rotate\n",
    "from scipy.ndimage.filters import gaussian_filter1d, gaussian_filter\n",
    "import numpy as np\n",
    "import cv2\n"
   ]
  },
  {
   "cell_type": "markdown",
   "metadata": {},
   "source": [
    "Implement a function that performs non-maximum suppression. You can leave it for the end"
   ]
  },
  {
   "cell_type": "code",
   "execution_count": 2,
   "metadata": {},
   "outputs": [],
   "source": [
    "def nonmax_suppression(harris_resp, thr, halfwidth=2):\n",
    "    # Outputs:\n",
    "    # 1) cornersy: list with row coordinates of identified corner pixels.\n",
    "    # 2) cornersx: list with respective column coordinates of identified corner pixels.\n",
    "    # Elements from the two lists with the same index must correspond to the same corner.\n",
    "    \n",
    "    cornersy = []\n",
    "    cornersx = []\n",
    "    h, w = im.shape[:2]\n",
    "    # TODO: perform non-maximum suppression\n",
    "\n",
    "    return cornersy, cornersx"
   ]
  },
  {
   "cell_type": "markdown",
   "metadata": {},
   "source": [
    "Implement the main part of the exercise"
   ]
  },
  {
   "cell_type": "code",
   "execution_count": 6,
   "metadata": {},
   "outputs": [
    {
     "ename": "SyntaxError",
     "evalue": "cannot assign to function call (213881016.py, line 37)",
     "output_type": "error",
     "traceback": [
      "\u001b[0;36m  File \u001b[0;32m\"/var/folders/b0/5k8c1jyx61gcphqryctw04x80000gn/T/ipykernel_12624/213881016.py\"\u001b[0;36m, line \u001b[0;32m37\u001b[0m\n\u001b[0;31m    H(i,j) = build_H_ij(I_x2_s,I_y2_s,I_xy_s,i,j)\u001b[0m\n\u001b[0m    ^\u001b[0m\n\u001b[0;31mSyntaxError\u001b[0m\u001b[0;31m:\u001b[0m cannot assign to function call\n"
     ]
    }
   ],
   "source": [
    "# Define parameters\n",
    "sigma_w = 2.0\n",
    "sigma_d = 2.0\n",
    "kappa = 0.04\n",
    "rot_angle = 0\n",
    "thresh = 800\n",
    "\n",
    "# Read the image\n",
    "im = cv2.imread('../images/CircleLineRect.png', 0)\n",
    "#300x300\n",
    "im = im.astype('float')\n",
    "\n",
    "# Rotation of the image\n",
    "if rot_angle != 0:\n",
    "    im = rotate(im, rot_angle)\n",
    "\n",
    "# TODO: Implement Harris corners\n",
    "# Useful functions: gaussian_filter1d, gaussian_filter\n",
    "\n",
    "I_x = gaussian_filter1d(im,sigma_d,-1,1)\n",
    "I_y = gaussian_filter1d(im,sigma_d,0,1)\n",
    "I_x2 = np.matmul(I_x,I_x)\n",
    "I_y2 = np.matmul(I_y,I_y)\n",
    "I_xy = np.matmul(I_x,I_y)\n",
    "\n",
    "I_x2_s = gaussian_filter(im,sigma_w)\n",
    "I_y2_s = gaussian_filter(im,sigma_w)\n",
    "I_xy_s = gaussian_filter(I_xy,sigma_w)\n",
    "\n",
    "#define a\n",
    "def build_H_ij(I_x2_s,I_y2_s,I_xy_s,i,j):\n",
    "    return [[I_x2_s(i,j),I_xy_s(i,j)],[I_xy_s(i,j),I_y2_s(i,j)]]\n",
    "\n",
    "H = np.linalg.zero(300,300)\n",
    "for i in range(300):\n",
    "    for j in range (300):\n",
    "        H(i,j) = build_H_ij(I_x2_s,I_y2_s,I_xy_s,i,j)\n",
    "\n",
    "corn = nonmax_suppression(H,thresh,2)\n"
   ]
  },
  {
   "cell_type": "markdown",
   "metadata": {},
   "source": [
    "Visualization of the results"
   ]
  },
  {
   "cell_type": "code",
   "execution_count": null,
   "metadata": {},
   "outputs": [],
   "source": [
    "# Plotting of results\n",
    "# No need to change it\n",
    "plt.close(\"all\")\n",
    "plt.ion()\n",
    "f, ax_arr = plt.subplots(1, 3, figsize=(18, 16))\n",
    "ax_arr[0].set_title(\"Input Image\")\n",
    "ax_arr[1].set_title(\"Harris Response\")\n",
    "ax_arr[2].set_title(\"Detections\")\n",
    "ax_arr[0].imshow(im, cmap='gray')\n",
    "ax_arr[1].imshow(H, cmap='gray')\n",
    "ax_arr[2].imshow(im, cmap='gray')\n",
    "ax_arr[2].scatter(x=corn[1], y=corn[0], c='r', s=10)"
   ]
  }
 ],
 "metadata": {
  "interpreter": {
   "hash": "aee8b7b246df8f9039afb4144a1f6fd8d2ca17a180786b69acc140d282b71a49"
  },
  "kernelspec": {
   "display_name": "Python 3.9.4 64-bit",
   "name": "python3"
  },
  "language_info": {
   "codemirror_mode": {
    "name": "ipython",
    "version": 3
   },
   "file_extension": ".py",
   "mimetype": "text/x-python",
   "name": "python",
   "nbconvert_exporter": "python",
   "pygments_lexer": "ipython3",
   "version": "3.9.4"
  }
 },
 "nbformat": 4,
 "nbformat_minor": 2
}
